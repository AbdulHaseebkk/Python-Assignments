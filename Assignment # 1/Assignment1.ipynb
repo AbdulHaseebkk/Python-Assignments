{
 "cells": [
  {
   "cell_type": "code",
   "execution_count": 2,
   "metadata": {},
   "outputs": [
    {
     "name": "stdout",
     "output_type": "stream",
     "text": [
      "Python Version 3.7.6 (default, Jan  8 2020, 20:23:39) [MSC v.1916 64 bit (AMD64)]\n"
     ]
    }
   ],
   "source": [
    "import sys\n",
    "print(\"Python Version {}\".format(sys.version))"
   ]
  },
  {
   "cell_type": "code",
   "execution_count": 9,
   "metadata": {},
   "outputs": [
    {
     "name": "stdout",
     "output_type": "stream",
     "text": [
      "The Current Date is 2022-01-01 and time is 23:17:13 \n"
     ]
    }
   ],
   "source": [
    "import datetime\n",
    "dt = datetime.datetime.now()\n",
    "date = dt.strftime(\"%Y-%m-%d\")\n",
    "time = dt.strftime(\"%H:%M:%S\")\n",
    "print(\"The Current Date is {} and time is {} \".format(date,time))\n"
   ]
  },
  {
   "cell_type": "code",
   "execution_count": 18,
   "metadata": {},
   "outputs": [
    {
     "name": "stdout",
     "output_type": "stream",
     "text": [
      "Please enter the radius of the circle: 2\n",
      "The Area of the circle is 12.566370614359172 with the input radius 2.0\n"
     ]
    }
   ],
   "source": [
    "from math import pi\n",
    "r = float(input(\"Please enter the radius of the circle: \"))\n",
    "a = pi * r**2\n",
    "print(\"The Area of the circle is {} with the input radius {}\".format(a,r))"
   ]
  },
  {
   "cell_type": "code",
   "execution_count": 20,
   "metadata": {},
   "outputs": [
    {
     "name": "stdout",
     "output_type": "stream",
     "text": [
      "Please Enter your first name: abdul\n",
      "Please Enter your Last name: haseeb\n",
      " Your reverse order name is haseeb abdul\n"
     ]
    }
   ],
   "source": [
    "fn = input(\"Please Enter your first name: \")\n",
    "ls = input(\"Please Enter your Last name: \")\n",
    "print(\" Your reverse order name is {} {}\".format(ls,fn))"
   ]
  },
  {
   "cell_type": "code",
   "execution_count": 21,
   "metadata": {},
   "outputs": [
    {
     "name": "stdout",
     "output_type": "stream",
     "text": [
      "Enter first number: 1\n",
      "Enter second number: 2\n",
      "The addition of 1.0 and 2.0 is 3.0\n"
     ]
    }
   ],
   "source": [
    "input1 = float(input(\"Enter first number: \"))\n",
    "input2 = float(input(\"Enter second number: \"))\n",
    "c = input1 + input2\n",
    "print(\"The addition of {} and {} is {}\".format(input1,input2,c))"
   ]
  },
  {
   "cell_type": "code",
   "execution_count": 22,
   "metadata": {},
   "outputs": [
    {
     "name": "stdout",
     "output_type": "stream",
     "text": [
      "Twinkle, twinkle, little star, \n",
      "\tHow I wonder what you are! \n",
      "\t\tUp above the world so high, \n",
      "\t\tLike a diamond in the sky. \n",
      "Twinkle, twinkle, little star, \n",
      "\tHow I wonder what you are!\n"
     ]
    }
   ],
   "source": [
    "print(\"Twinkle, twinkle, little star, \\n\\tHow I wonder what you are! \\n\\t\\tUp above the world so high, \\n\\t\\tLike a diamond in the sky. \\nTwinkle, twinkle, little star, \\n\\tHow I wonder what you are!\")\n"
   ]
  },
  {
   "cell_type": "code",
   "execution_count": null,
   "metadata": {},
   "outputs": [],
   "source": []
  },
  {
   "cell_type": "code",
   "execution_count": null,
   "metadata": {},
   "outputs": [],
   "source": []
  }
 ],
 "metadata": {
  "kernelspec": {
   "display_name": "Python 3",
   "language": "python",
   "name": "python3"
  },
  "language_info": {
   "codemirror_mode": {
    "name": "ipython",
    "version": 3
   },
   "file_extension": ".py",
   "mimetype": "text/x-python",
   "name": "python",
   "nbconvert_exporter": "python",
   "pygments_lexer": "ipython3",
   "version": "3.7.6"
  }
 },
 "nbformat": 4,
 "nbformat_minor": 4
}
